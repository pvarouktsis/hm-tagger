{
 "cells": [
  {
   "cell_type": "code",
   "execution_count": 1,
   "metadata": {},
   "outputs": [],
   "source": [
    "import math\n",
    "\n",
    "import pandas as pd\n",
    "import numpy as np\n",
    "from plotnine import *\n",
    "\n",
    "from IPython.display import display\n",
    "\n",
    "pd.set_option('max_colwidth', None)\n",
    "\n",
    "PATH = 'data/intros/'"
   ]
  },
  {
   "cell_type": "code",
   "execution_count": 2,
   "metadata": {},
   "outputs": [
    {
     "data": {
      "text/html": [
       "<div>\n",
       "<style scoped>\n",
       "    .dataframe tbody tr th:only-of-type {\n",
       "        vertical-align: middle;\n",
       "    }\n",
       "\n",
       "    .dataframe tbody tr th {\n",
       "        vertical-align: top;\n",
       "    }\n",
       "\n",
       "    .dataframe thead th {\n",
       "        text-align: right;\n",
       "    }\n",
       "</style>\n",
       "<table border=\"1\" class=\"dataframe\">\n",
       "  <thead>\n",
       "    <tr style=\"text-align: right;\">\n",
       "      <th></th>\n",
       "      <th>tag</th>\n",
       "      <th>title</th>\n",
       "      <th>text</th>\n",
       "    </tr>\n",
       "  </thead>\n",
       "  <tbody>\n",
       "    <tr>\n",
       "      <th>0</th>\n",
       "      <td>Visual Arts</td>\n",
       "      <td>Art</td>\n",
       "      <td>Art is a diverse range of (and products of) human activities involving creative imagination to express technical proficiency, beauty, emotional power, or conceptual ideas.[1][2][3] There is no generally agreed definition of what constitutes art,[4][5][6] and ideas have changed over time. The three classical branches of visual art are painting, sculpture, and architecture.[7] Theatre, dance, and other performing arts, as well as literature, music, film and other media such as interactive media, are included in a broader definition of the arts.[1][8] Until the 17th century, art referred to any skill or mastery and was not differentiated from crafts or sciences. In modern usage after the 17th century, where aesthetic considerations are paramount, the fine arts are separated and distinguished from acquired skills in general, such as the decorative or applied arts. The nature of art and related concepts, such as creativity and interpretation, are explored in a branch of philosophy known as aesthetics.[9] The resulting artworks are studied in the professional fields of art criticism and the history of art.</td>\n",
       "    </tr>\n",
       "    <tr>\n",
       "      <th>1</th>\n",
       "      <td>Visual Arts</td>\n",
       "      <td>Painting</td>\n",
       "      <td>Painting is the practice of applying paint, pigment, color or other medium to a solid surface (called the \"matrix\" or \"support\").[1] The medium is commonly applied to the base with a brush, but other implements, such as knives, sponges, and airbrushes, can be used. In art, the term painting describes both the act and the result of the action (the final work is called \"a painting\"). The support for paintings includes such surfaces as walls, paper, canvas, wood, glass, lacquer, pottery, leaf, copper and concrete, and the painting may incorporate multiple other materials, including sand, clay, paper, plaster, gold leaf, and even whole objects. Painting is an important form in the visual arts, bringing in elements such as drawing, composition, gesture (as in gestural painting), narration (as in narrative art), and abstraction (as in abstract art).[2] Paintings can be naturalistic and representational (as in still life and landscape painting), photographic, abstract, narrative, symbolistic (as in Symbolist art), emotive (as in Expressionism) or political in nature (as in Artivism). A portion of the history of painting in both Eastern and Western art is dominated by religious art. Examples of this kind of painting range from artwork depicting mythological figures on pottery, to Biblical scenes on the Sistine Chapel ceiling, to scenes from the life of Buddha (or other images of Eastern religious origin).</td>\n",
       "    </tr>\n",
       "    <tr>\n",
       "      <th>2</th>\n",
       "      <td>Visual Arts</td>\n",
       "      <td>Drawing</td>\n",
       "      <td>Drawing is a form of visual art in which an artist uses instruments to mark paper or other two-dimensional surface. Drawing instruments include graphite pencils, pen and ink, various kinds of paints, inked brushes, colored pencils, crayons, charcoal, chalk, pastels, erasers, markers, styluses, and metals (such as silverpoint). Digital drawing is the act of using a computer to draw. Common methods of digital drawing include a stylus or finger on a touchscreen device, stylus- or finger-to-touchpad, or in some cases, a mouse. There are many digital art programs and devices. A drawing instrument releases a small amount of material onto a surface, leaving a visible mark. The most common support for drawing is paper, although other materials, such as cardboard, wood, plastic, leather, canvas, and board, have been used. Temporary drawings may be made on a blackboard or whiteboard. Drawing has been a popular and fundamental means of public expression throughout human history. It is one of the simplest and most efficient means of communicating ideas.[1] The wide availability of drawing instruments makes drawing one of the most common artistic activities. In addition to its more artistic forms, drawing is frequently used in commercial illustration, animation, architecture, engineering, and technical drawing. A quick, freehand drawing, usually not intended as a finished work, is sometimes called a sketch. An artist who practices or works in technical drawing may be called a drafter, draftsman, or draughtsman.[2]</td>\n",
       "    </tr>\n",
       "  </tbody>\n",
       "</table>\n",
       "</div>"
      ],
      "text/plain": [
       "           tag     title  \\\n",
       "0  Visual Arts       Art   \n",
       "1  Visual Arts  Painting   \n",
       "2  Visual Arts   Drawing   \n",
       "\n",
       "                                                                                                                                                                                                                                                                                                                                                                                                                                                                                                                                                                                                                                                                                                                                                                                                                                                                                                                                                                                                                                                                                                                                                                                                                                                                                                                                                                                                                                                                                                                                                                                     text  \n",
       "0                                                                                                                                                                                                                                                                                                                                                                                                                           Art is a diverse range of (and products of) human activities involving creative imagination to express technical proficiency, beauty, emotional power, or conceptual ideas.[1][2][3] There is no generally agreed definition of what constitutes art,[4][5][6] and ideas have changed over time. The three classical branches of visual art are painting, sculpture, and architecture.[7] Theatre, dance, and other performing arts, as well as literature, music, film and other media such as interactive media, are included in a broader definition of the arts.[1][8] Until the 17th century, art referred to any skill or mastery and was not differentiated from crafts or sciences. In modern usage after the 17th century, where aesthetic considerations are paramount, the fine arts are separated and distinguished from acquired skills in general, such as the decorative or applied arts. The nature of art and related concepts, such as creativity and interpretation, are explored in a branch of philosophy known as aesthetics.[9] The resulting artworks are studied in the professional fields of art criticism and the history of art.  \n",
       "1                                                                                                            Painting is the practice of applying paint, pigment, color or other medium to a solid surface (called the \"matrix\" or \"support\").[1] The medium is commonly applied to the base with a brush, but other implements, such as knives, sponges, and airbrushes, can be used. In art, the term painting describes both the act and the result of the action (the final work is called \"a painting\"). The support for paintings includes such surfaces as walls, paper, canvas, wood, glass, lacquer, pottery, leaf, copper and concrete, and the painting may incorporate multiple other materials, including sand, clay, paper, plaster, gold leaf, and even whole objects. Painting is an important form in the visual arts, bringing in elements such as drawing, composition, gesture (as in gestural painting), narration (as in narrative art), and abstraction (as in abstract art).[2] Paintings can be naturalistic and representational (as in still life and landscape painting), photographic, abstract, narrative, symbolistic (as in Symbolist art), emotive (as in Expressionism) or political in nature (as in Artivism). A portion of the history of painting in both Eastern and Western art is dominated by religious art. Examples of this kind of painting range from artwork depicting mythological figures on pottery, to Biblical scenes on the Sistine Chapel ceiling, to scenes from the life of Buddha (or other images of Eastern religious origin).  \n",
       "2  Drawing is a form of visual art in which an artist uses instruments to mark paper or other two-dimensional surface. Drawing instruments include graphite pencils, pen and ink, various kinds of paints, inked brushes, colored pencils, crayons, charcoal, chalk, pastels, erasers, markers, styluses, and metals (such as silverpoint). Digital drawing is the act of using a computer to draw. Common methods of digital drawing include a stylus or finger on a touchscreen device, stylus- or finger-to-touchpad, or in some cases, a mouse. There are many digital art programs and devices. A drawing instrument releases a small amount of material onto a surface, leaving a visible mark. The most common support for drawing is paper, although other materials, such as cardboard, wood, plastic, leather, canvas, and board, have been used. Temporary drawings may be made on a blackboard or whiteboard. Drawing has been a popular and fundamental means of public expression throughout human history. It is one of the simplest and most efficient means of communicating ideas.[1] The wide availability of drawing instruments makes drawing one of the most common artistic activities. In addition to its more artistic forms, drawing is frequently used in commercial illustration, animation, architecture, engineering, and technical drawing. A quick, freehand drawing, usually not intended as a finished work, is sometimes called a sketch. An artist who practices or works in technical drawing may be called a drafter, draftsman, or draughtsman.[2]  "
      ]
     },
     "execution_count": 2,
     "metadata": {},
     "output_type": "execute_result"
    }
   ],
   "source": [
    "df = pd.read_csv(PATH + 'dataset.v1.0.3.csv')\n",
    "df.head(3)"
   ]
  },
  {
   "cell_type": "code",
   "execution_count": 3,
   "metadata": {},
   "outputs": [
    {
     "name": "stdout",
     "output_type": "stream",
     "text": [
      "<class 'pandas.core.frame.DataFrame'>\n",
      "RangeIndex: 12872 entries, 0 to 12871\n",
      "Data columns (total 3 columns):\n",
      " #   Column  Non-Null Count  Dtype \n",
      "---  ------  --------------  ----- \n",
      " 0   tag     12872 non-null  object\n",
      " 1   title   12872 non-null  object\n",
      " 2   text    12872 non-null  object\n",
      "dtypes: object(3)\n",
      "memory usage: 301.8+ KB\n"
     ]
    }
   ],
   "source": [
    "df.info()"
   ]
  },
  {
   "cell_type": "code",
   "execution_count": 4,
   "metadata": {},
   "outputs": [
    {
     "data": {
      "text/html": [
       "<div>\n",
       "<style scoped>\n",
       "    .dataframe tbody tr th:only-of-type {\n",
       "        vertical-align: middle;\n",
       "    }\n",
       "\n",
       "    .dataframe tbody tr th {\n",
       "        vertical-align: top;\n",
       "    }\n",
       "\n",
       "    .dataframe thead th {\n",
       "        text-align: right;\n",
       "    }\n",
       "</style>\n",
       "<table border=\"1\" class=\"dataframe\">\n",
       "  <thead>\n",
       "    <tr style=\"text-align: right;\">\n",
       "      <th></th>\n",
       "      <th>tag</th>\n",
       "      <th>title</th>\n",
       "      <th>text</th>\n",
       "    </tr>\n",
       "  </thead>\n",
       "  <tbody>\n",
       "    <tr>\n",
       "      <th>count</th>\n",
       "      <td>12872</td>\n",
       "      <td>12872</td>\n",
       "      <td>12872</td>\n",
       "    </tr>\n",
       "    <tr>\n",
       "      <th>unique</th>\n",
       "      <td>21</td>\n",
       "      <td>8722</td>\n",
       "      <td>8724</td>\n",
       "    </tr>\n",
       "    <tr>\n",
       "      <th>top</th>\n",
       "      <td>Computer Science</td>\n",
       "      <td>Interdisciplinarity</td>\n",
       "      <td>Interdisciplinarity or interdisciplinary studies involves the combination of two or more academic disciplines into one activity (e.g., a research project).[1] It draws knowledge from several other fields like sociology, anthropology, psychology, economics etc.  It is about creating something by thinking across boundaries. It is related to an interdiscipline or an interdisciplinary field, which is an organizational unit that crosses traditional boundaries between academic disciplines or schools of thought, as new needs and professions emerge. Large engineering teams are usually interdisciplinary, as a power station or mobile phone or other project requires the melding of several specialties. However, the term \"interdisciplinary\" is sometimes confined to academic settings. The term interdisciplinary is applied within education and training pedagogies to describe studies that use methods and insights of several established disciplines or traditional fields of study. Interdisciplinarity involves researchers, students, and teachers in the goals of connecting and integrating several academic schools of thought, professions, or technologies—along with their specific perspectives—in the pursuit of a common task. The epidemiology of HIV/AIDS or global warming requires understanding of diverse disciplines to solve complex problems. Interdisciplinary may be applied where the subject is felt to have been neglected or even misrepresented in the traditional disciplinary structure of research institutions, for example, women's studies or ethnic area studies. Interdisciplinarity can likewise be applied to complex subjects that can only be understood by combining the perspectives of two or more fields. The adjective interdisciplinary is most often used in educational circles when researchers from two or more disciplines pool their approaches and modify them so that they are better suited to the problem at hand, including the case of the team-taught course where students are required to understand a given subject in terms of multiple traditional disciplines.  For example, the subject of land use may appear differently when examined by different disciplines, for instance, biology, chemistry, economics, geography, and politics.</td>\n",
       "    </tr>\n",
       "    <tr>\n",
       "      <th>freq</th>\n",
       "      <td>1511</td>\n",
       "      <td>22</td>\n",
       "      <td>22</td>\n",
       "    </tr>\n",
       "  </tbody>\n",
       "</table>\n",
       "</div>"
      ],
      "text/plain": [
       "                     tag                title  \\\n",
       "count              12872                12872   \n",
       "unique                21                 8722   \n",
       "top     Computer Science  Interdisciplinarity   \n",
       "freq                1511                   22   \n",
       "\n",
       "                                                                                                                                                                                                                                                                                                                                                                                                                                                                                                                                                                                                                                                                                                                                                                                                                                                                                                                                                                                                                                                                                                                                                                                                                                                                                                                                                                                                                                                                                                                                                                                                                                                                                                                                                                                                                                                                                                                                                                                                                                                                                                                                                                                                                                                                                                                                            text  \n",
       "count                                                                                                                                                                                                                                                                                                                                                                                                                                                                                                                                                                                                                                                                                                                                                                                                                                                                                                                                                                                                                                                                                                                                                                                                                                                                                                                                                                                                                                                                                                                                                                                                                                                                                                                                                                                                                                                                                                                                                                                                                                                                                                                                                                                                                                                                                                                                      12872  \n",
       "unique                                                                                                                                                                                                                                                                                                                                                                                                                                                                                                                                                                                                                                                                                                                                                                                                                                                                                                                                                                                                                                                                                                                                                                                                                                                                                                                                                                                                                                                                                                                                                                                                                                                                                                                                                                                                                                                                                                                                                                                                                                                                                                                                                                                                                                                                                                                                      8724  \n",
       "top      Interdisciplinarity or interdisciplinary studies involves the combination of two or more academic disciplines into one activity (e.g., a research project).[1] It draws knowledge from several other fields like sociology, anthropology, psychology, economics etc.  It is about creating something by thinking across boundaries. It is related to an interdiscipline or an interdisciplinary field, which is an organizational unit that crosses traditional boundaries between academic disciplines or schools of thought, as new needs and professions emerge. Large engineering teams are usually interdisciplinary, as a power station or mobile phone or other project requires the melding of several specialties. However, the term \"interdisciplinary\" is sometimes confined to academic settings. The term interdisciplinary is applied within education and training pedagogies to describe studies that use methods and insights of several established disciplines or traditional fields of study. Interdisciplinarity involves researchers, students, and teachers in the goals of connecting and integrating several academic schools of thought, professions, or technologies—along with their specific perspectives—in the pursuit of a common task. The epidemiology of HIV/AIDS or global warming requires understanding of diverse disciplines to solve complex problems. Interdisciplinary may be applied where the subject is felt to have been neglected or even misrepresented in the traditional disciplinary structure of research institutions, for example, women's studies or ethnic area studies. Interdisciplinarity can likewise be applied to complex subjects that can only be understood by combining the perspectives of two or more fields. The adjective interdisciplinary is most often used in educational circles when researchers from two or more disciplines pool their approaches and modify them so that they are better suited to the problem at hand, including the case of the team-taught course where students are required to understand a given subject in terms of multiple traditional disciplines.  For example, the subject of land use may appear differently when examined by different disciplines, for instance, biology, chemistry, economics, geography, and politics.  \n",
       "freq                                                                                                                                                                                                                                                                                                                                                                                                                                                                                                                                                                                                                                                                                                                                                                                                                                                                                                                                                                                                                                                                                                                                                                                                                                                                                                                                                                                                                                                                                                                                                                                                                                                                                                                                                                                                                                                                                                                                                                                                                                                                                                                                                                                                                                                                                                                                          22  "
      ]
     },
     "execution_count": 4,
     "metadata": {},
     "output_type": "execute_result"
    }
   ],
   "source": [
    "df.describe()"
   ]
  },
  {
   "cell_type": "code",
   "execution_count": 5,
   "metadata": {
    "scrolled": true
   },
   "outputs": [
    {
     "data": {
      "text/html": [
       "<div>\n",
       "<style scoped>\n",
       "    .dataframe tbody tr th:only-of-type {\n",
       "        vertical-align: middle;\n",
       "    }\n",
       "\n",
       "    .dataframe tbody tr th {\n",
       "        vertical-align: top;\n",
       "    }\n",
       "\n",
       "    .dataframe thead th {\n",
       "        text-align: right;\n",
       "    }\n",
       "</style>\n",
       "<table border=\"1\" class=\"dataframe\">\n",
       "  <thead>\n",
       "    <tr style=\"text-align: right;\">\n",
       "      <th></th>\n",
       "      <th>tag</th>\n",
       "      <th>title</th>\n",
       "      <th>text</th>\n",
       "    </tr>\n",
       "  </thead>\n",
       "  <tbody>\n",
       "    <tr>\n",
       "      <th>1122</th>\n",
       "      <td>History</td>\n",
       "      <td>Economic history of the world</td>\n",
       "      <td>.</td>\n",
       "    </tr>\n",
       "  </tbody>\n",
       "</table>\n",
       "</div>"
      ],
      "text/plain": [
       "          tag                          title text\n",
       "1122  History  Economic history of the world    ."
      ]
     },
     "metadata": {},
     "output_type": "display_data"
    },
    {
     "data": {
      "text/html": [
       "<div>\n",
       "<style scoped>\n",
       "    .dataframe tbody tr th:only-of-type {\n",
       "        vertical-align: middle;\n",
       "    }\n",
       "\n",
       "    .dataframe tbody tr th {\n",
       "        vertical-align: top;\n",
       "    }\n",
       "\n",
       "    .dataframe thead th {\n",
       "        text-align: right;\n",
       "    }\n",
       "</style>\n",
       "<table border=\"1\" class=\"dataframe\">\n",
       "  <thead>\n",
       "    <tr style=\"text-align: right;\">\n",
       "      <th></th>\n",
       "      <th>tag</th>\n",
       "      <th>title</th>\n",
       "      <th>text</th>\n",
       "    </tr>\n",
       "  </thead>\n",
       "  <tbody>\n",
       "    <tr>\n",
       "      <th>12429</th>\n",
       "      <td>Sports, Exercise and Health Science</td>\n",
       "      <td>Occupational hygiene</td>\n",
       "      <td>Occupational hygiene (United States: industrial hygiene (IH)) is the anticipation, recognition, evaluation, control, and confirmation of protection from hazards at work that may result in injury, illness, or affect the well being of workers. These hazards or stressors are typically divided into the categories biological, chemical, physical, ergonomic and psychosocial.[1]  The risk of a health effect from a given stressor is a function of the hazard multiplied by the exposure to the individual or group.[2] For chemicals, the hazard can be understood by the dose response profile most often based on toxicological studies or models. Occupational hygienists work closely with toxicologists (see Toxicology) for understanding chemical hazards, physicists (see Physics) for physical hazards, and physicians and microbiologists for biological hazards (see Microbiology Tropical medicine Infection) Environmental and occupational hygienists are considered experts in exposure science and exposure risk management.  Depending on an individual's type of job, a hygienist will apply their exposure science expertise for the protection of workers, consumers and/or communities. The British Occupational Hygiene Society (BOHS) defines that \"occupational hygiene is about the prevention of ill-health from work, through recognizing, evaluating and controlling the risks\".[3]  The International Occupational Hygiene Association (IOHA) refers to occupational hygiene as the discipline of anticipating, recognizing, evaluating and controlling health hazards in the working environment with the objective of protecting worker health and well-being and safeguarding the community at large.[4] The term \"occupational hygiene\" (used in the UK and Commonwealth countries as well as much of  Europe) is synonymous with industrial hygiene (used in the US, Latin America, and other countries that received initial technical support or training from US sources).  The term \"industrial hygiene\" traditionally stems from industries with construction, mining or manufacturing, and \"occupational hygiene\" refers to all types of industry such as those listed for \"industrial hygiene\" as well as financial and support services industries and refers to \"work\", \"workplace\" and \"place of work\" in general.  Environmental hygiene addresses similar issues to occupational hygiene but is likely to be about broad industry or broad issues affecting the local community, broader society, region or country. The profession of occupational hygiene uses strict and rigorous scientific methodology and often requires professional judgment based on experience and education in determining the potential for hazardous exposure risks in workplace and environmental studies.  These aspects of occupational hygiene can often be referred to as the \"art\" of occupational hygiene and is used in a similar sense to the \"art\" of medicine. In fact \"occupational hygiene\" is both an aspect of preventive medicine and in particular occupational medicine, in that its goal is to prevent industrial disease, using the science of risk management, exposure assessment and industrial safety.  Ultimately professionals seek to implement \"safe\" systems, procedures or methods to be applied in the workplace or to the environment. Prevention of exposure to long working hours has been identified as a focus for occupational hygiene when a landmark United Nations study estimated that this occupational hazard causes an estimated 745,000 occupational fatalities per year worldwide, the largest burden of disease attributed to any single occupational hazard.[5] Industrial Hygiene\\nIndustrial hygiene refers to the science of anticipating, recognizing, evaluating, and controlling workplaces to prevent illness or injuries to the workers (Geigle Safety Group, Inc., 2020). The industrial hygienists use various environmental monitoring and analytical methods to establish how workers are exposed. In turn, they employ techniques such as engineering and work practice controls to control any potential health hazards.\\nAnticipation involves identifying potential hazards in the workplace before they are introduced. The uncertainty of health hazards ranges from reasonable expectations to mere speculations. However, it implies that the industrial hygienist must understand the nature of changes in the processes, products, environments, and workforces of the workplaces and how they can affect workers' well-being.  \\nRecognition of engineering, work practice, and administrative controls are the primary means of reducing the workers` exposure to occupational hazards. Timely recognition of hazards minimizes the workers' exposure to the hazards by removing or reducing the hazard's source or isolating the workers from the hazards. \\nEvaluation of a worksite is a significant step that helps the industrial hygienists establish jobs and worksites that are a potential source of problems. During the evaluation, the industrial hygienist measures and identifies the problem tasks, exposures, and tasks. The most effective worksites assessment includes all the jobs, work activities, and operations. The industrial hygienists inspect research and evaluations of how given physical or chemical hazards affect the workers' health. If the workplace contains a health hazard, the industrial hygienist recommends appropriate corrective actions. \\nControl measures include removing toxic chemicals and replacing harmful toxic materials with less hazardous ones. It also involves confining work operations or enclosing work processes and installing general and local ventilation systems. Controls change how the task is performed. Some of the basic work practice controls include: following the laid procedures to reduce exposures while at the workplace, inspecting and maintaining processes regularly, and implementing reasonable workplace procedures.\\nPart two\\nIndustrial hygiene in the United States started taking shape in the early 20th century. There before, many workers risked their lives daily to work in industrial settings such as manufacturing, mills, constructions, and mines. Currently, the statistics on work safety are usually measured by the number of injuries and deaths yearly. Before the 20th century, these kinds of statistics were hard to come by because it appeared no one cared enough to make tracking of the job injuries and deaths a priority.  \\nThe industrial hygiene profession gained respectability back in 1700 when Bernardo Ramazzini published a comprehensive book on industrial medicine. The book was written in Italian and was known as De Morbis Artificum Diatriba, meaning “The Diseases of Workmen” (Geigle Safety Group, Inc., 2020). The book detailed the accurate description of the occupational diseases that most of his time workers suffered from. Ramazzini was critical to the industrial hygiene profession's future because he asserted that occupational diseases should be studied in the workplace environment and not in hospital wards.  \\nIndustrial hygiene received another boost in the early 20th century when Dr. Alice Hamilton led an effort to improve industrial hygiene. She began by observing industrial conditions first and then startled mine owners, factory managers, and other state officials with evidence that there was a correlation between workers` illnesses and their exposure to chemical toxins. She presented a definitive proposals for eliminating unhealthful working conditions. As result, the US federal government also began investigating health conditions in the industry. In 1911, the states passed the first workers` compensation laws.</td>\n",
       "    </tr>\n",
       "  </tbody>\n",
       "</table>\n",
       "</div>"
      ],
      "text/plain": [
       "                                       tag                 title  \\\n",
       "12429  Sports, Exercise and Health Science  Occupational hygiene   \n",
       "\n",
       "                                                                                                                                                                                                                                                                                                                                                                                                                                                                                                                                                                                                                                                                                                                                                                                                                                                                                                                                                                                                                                                                                                                                                                                                                                                                                                                                                                                                                                                                                                                                                                                                                                                                                                                                                                                                                                                                                                                                                                                                                                                                                                                                                                                                                                                                                                                                                                                                                                                                                                                                                                                                                                                                                                                                                                                                                                                                                                                                                                                                                                                                                                                                                                                                                                                                                                                                                                                                                                                                                                                                                                                                                                                                                                                                                                                                                                                                                                                                                                                                                                                                                                                                                                                                                                                                                                                                                                                                                                                                                                                                                                                                                                                                                                                                                                                                                                                                                                                                                                                                                                                                                                                                                                                                                                                                                                                                                                                                                                                                                                                                                                                                                                                                                                                                                                                                                                                                                                                                                                                                                                                                                                                                                                                                                                                                                                                                                                                                                                                                                                                                                                                                                                                                                                                                                                                                                                                                                                                                                                                                                                                                                                                                                                                                                                                                                                                                                                                                                                                                                                                                                                                                                                                                                                                                                                                                                                                                                                                                                 text  \n",
       "12429  Occupational hygiene (United States: industrial hygiene (IH)) is the anticipation, recognition, evaluation, control, and confirmation of protection from hazards at work that may result in injury, illness, or affect the well being of workers. These hazards or stressors are typically divided into the categories biological, chemical, physical, ergonomic and psychosocial.[1]  The risk of a health effect from a given stressor is a function of the hazard multiplied by the exposure to the individual or group.[2] For chemicals, the hazard can be understood by the dose response profile most often based on toxicological studies or models. Occupational hygienists work closely with toxicologists (see Toxicology) for understanding chemical hazards, physicists (see Physics) for physical hazards, and physicians and microbiologists for biological hazards (see Microbiology Tropical medicine Infection) Environmental and occupational hygienists are considered experts in exposure science and exposure risk management.  Depending on an individual's type of job, a hygienist will apply their exposure science expertise for the protection of workers, consumers and/or communities. The British Occupational Hygiene Society (BOHS) defines that \"occupational hygiene is about the prevention of ill-health from work, through recognizing, evaluating and controlling the risks\".[3]  The International Occupational Hygiene Association (IOHA) refers to occupational hygiene as the discipline of anticipating, recognizing, evaluating and controlling health hazards in the working environment with the objective of protecting worker health and well-being and safeguarding the community at large.[4] The term \"occupational hygiene\" (used in the UK and Commonwealth countries as well as much of  Europe) is synonymous with industrial hygiene (used in the US, Latin America, and other countries that received initial technical support or training from US sources).  The term \"industrial hygiene\" traditionally stems from industries with construction, mining or manufacturing, and \"occupational hygiene\" refers to all types of industry such as those listed for \"industrial hygiene\" as well as financial and support services industries and refers to \"work\", \"workplace\" and \"place of work\" in general.  Environmental hygiene addresses similar issues to occupational hygiene but is likely to be about broad industry or broad issues affecting the local community, broader society, region or country. The profession of occupational hygiene uses strict and rigorous scientific methodology and often requires professional judgment based on experience and education in determining the potential for hazardous exposure risks in workplace and environmental studies.  These aspects of occupational hygiene can often be referred to as the \"art\" of occupational hygiene and is used in a similar sense to the \"art\" of medicine. In fact \"occupational hygiene\" is both an aspect of preventive medicine and in particular occupational medicine, in that its goal is to prevent industrial disease, using the science of risk management, exposure assessment and industrial safety.  Ultimately professionals seek to implement \"safe\" systems, procedures or methods to be applied in the workplace or to the environment. Prevention of exposure to long working hours has been identified as a focus for occupational hygiene when a landmark United Nations study estimated that this occupational hazard causes an estimated 745,000 occupational fatalities per year worldwide, the largest burden of disease attributed to any single occupational hazard.[5] Industrial Hygiene\\nIndustrial hygiene refers to the science of anticipating, recognizing, evaluating, and controlling workplaces to prevent illness or injuries to the workers (Geigle Safety Group, Inc., 2020). The industrial hygienists use various environmental monitoring and analytical methods to establish how workers are exposed. In turn, they employ techniques such as engineering and work practice controls to control any potential health hazards.\\nAnticipation involves identifying potential hazards in the workplace before they are introduced. The uncertainty of health hazards ranges from reasonable expectations to mere speculations. However, it implies that the industrial hygienist must understand the nature of changes in the processes, products, environments, and workforces of the workplaces and how they can affect workers' well-being.  \\nRecognition of engineering, work practice, and administrative controls are the primary means of reducing the workers` exposure to occupational hazards. Timely recognition of hazards minimizes the workers' exposure to the hazards by removing or reducing the hazard's source or isolating the workers from the hazards. \\nEvaluation of a worksite is a significant step that helps the industrial hygienists establish jobs and worksites that are a potential source of problems. During the evaluation, the industrial hygienist measures and identifies the problem tasks, exposures, and tasks. The most effective worksites assessment includes all the jobs, work activities, and operations. The industrial hygienists inspect research and evaluations of how given physical or chemical hazards affect the workers' health. If the workplace contains a health hazard, the industrial hygienist recommends appropriate corrective actions. \\nControl measures include removing toxic chemicals and replacing harmful toxic materials with less hazardous ones. It also involves confining work operations or enclosing work processes and installing general and local ventilation systems. Controls change how the task is performed. Some of the basic work practice controls include: following the laid procedures to reduce exposures while at the workplace, inspecting and maintaining processes regularly, and implementing reasonable workplace procedures.\\nPart two\\nIndustrial hygiene in the United States started taking shape in the early 20th century. There before, many workers risked their lives daily to work in industrial settings such as manufacturing, mills, constructions, and mines. Currently, the statistics on work safety are usually measured by the number of injuries and deaths yearly. Before the 20th century, these kinds of statistics were hard to come by because it appeared no one cared enough to make tracking of the job injuries and deaths a priority.  \\nThe industrial hygiene profession gained respectability back in 1700 when Bernardo Ramazzini published a comprehensive book on industrial medicine. The book was written in Italian and was known as De Morbis Artificum Diatriba, meaning “The Diseases of Workmen” (Geigle Safety Group, Inc., 2020). The book detailed the accurate description of the occupational diseases that most of his time workers suffered from. Ramazzini was critical to the industrial hygiene profession's future because he asserted that occupational diseases should be studied in the workplace environment and not in hospital wards.  \\nIndustrial hygiene received another boost in the early 20th century when Dr. Alice Hamilton led an effort to improve industrial hygiene. She began by observing industrial conditions first and then startled mine owners, factory managers, and other state officials with evidence that there was a correlation between workers` illnesses and their exposure to chemical toxins. She presented a definitive proposals for eliminating unhealthful working conditions. As result, the US federal government also began investigating health conditions in the industry. In 1911, the states passed the first workers` compensation laws.  "
      ]
     },
     "metadata": {},
     "output_type": "display_data"
    }
   ],
   "source": [
    "min_text = df['text'].str.len().idxmin()\n",
    "max_text = df['text'].str.len().idxmax()\n",
    "\n",
    "display(df.iloc[min_text].to_frame().T)\n",
    "display(df.iloc[max_text].to_frame().T)"
   ]
  },
  {
   "cell_type": "code",
   "execution_count": 6,
   "metadata": {},
   "outputs": [
    {
     "data": {
      "text/html": [
       "<div>\n",
       "<style scoped>\n",
       "    .dataframe tbody tr th:only-of-type {\n",
       "        vertical-align: middle;\n",
       "    }\n",
       "\n",
       "    .dataframe tbody tr th {\n",
       "        vertical-align: top;\n",
       "    }\n",
       "\n",
       "    .dataframe thead th {\n",
       "        text-align: right;\n",
       "    }\n",
       "</style>\n",
       "<table border=\"1\" class=\"dataframe\">\n",
       "  <thead>\n",
       "    <tr style=\"text-align: right;\">\n",
       "      <th></th>\n",
       "      <th>tag</th>\n",
       "      <th>title</th>\n",
       "      <th>text</th>\n",
       "      <th>text_chars</th>\n",
       "    </tr>\n",
       "  </thead>\n",
       "  <tbody>\n",
       "    <tr>\n",
       "      <th>0</th>\n",
       "      <td>Visual Arts</td>\n",
       "      <td>Art</td>\n",
       "      <td>Art is a diverse range of (and products of) human activities involving creative imagination to express technical proficiency, beauty, emotional power, or conceptual ideas.[1][2][3] There is no generally agreed definition of what constitutes art,[4][5][6] and ideas have changed over time. The three classical branches of visual art are painting, sculpture, and architecture.[7] Theatre, dance, and other performing arts, as well as literature, music, film and other media such as interactive media, are included in a broader definition of the arts.[1][8] Until the 17th century, art referred to any skill or mastery and was not differentiated from crafts or sciences. In modern usage after the 17th century, where aesthetic considerations are paramount, the fine arts are separated and distinguished from acquired skills in general, such as the decorative or applied arts. The nature of art and related concepts, such as creativity and interpretation, are explored in a branch of philosophy known as aesthetics.[9] The resulting artworks are studied in the professional fields of art criticism and the history of art.</td>\n",
       "      <td>1119</td>\n",
       "    </tr>\n",
       "  </tbody>\n",
       "</table>\n",
       "</div>"
      ],
      "text/plain": [
       "           tag title  \\\n",
       "0  Visual Arts   Art   \n",
       "\n",
       "                                                                                                                                                                                                                                                                                                                                                                                                                                                                                                                                                                                                                                                                                                                                                                                                                                                                                                                                                                                                                                                                                                                                                              text  \\\n",
       "0    Art is a diverse range of (and products of) human activities involving creative imagination to express technical proficiency, beauty, emotional power, or conceptual ideas.[1][2][3] There is no generally agreed definition of what constitutes art,[4][5][6] and ideas have changed over time. The three classical branches of visual art are painting, sculpture, and architecture.[7] Theatre, dance, and other performing arts, as well as literature, music, film and other media such as interactive media, are included in a broader definition of the arts.[1][8] Until the 17th century, art referred to any skill or mastery and was not differentiated from crafts or sciences. In modern usage after the 17th century, where aesthetic considerations are paramount, the fine arts are separated and distinguished from acquired skills in general, such as the decorative or applied arts. The nature of art and related concepts, such as creativity and interpretation, are explored in a branch of philosophy known as aesthetics.[9] The resulting artworks are studied in the professional fields of art criticism and the history of art.   \n",
       "\n",
       "   text_chars  \n",
       "0        1119  "
      ]
     },
     "execution_count": 6,
     "metadata": {},
     "output_type": "execute_result"
    }
   ],
   "source": [
    "df['text_chars'] = df['text'].str.len()\n",
    "df.head(1)"
   ]
  },
  {
   "cell_type": "code",
   "execution_count": 7,
   "metadata": {
    "scrolled": true
   },
   "outputs": [
    {
     "data": {
      "text/html": [
       "<div>\n",
       "<style scoped>\n",
       "    .dataframe tbody tr th:only-of-type {\n",
       "        vertical-align: middle;\n",
       "    }\n",
       "\n",
       "    .dataframe tbody tr th {\n",
       "        vertical-align: top;\n",
       "    }\n",
       "\n",
       "    .dataframe thead th {\n",
       "        text-align: right;\n",
       "    }\n",
       "</style>\n",
       "<table border=\"1\" class=\"dataframe\">\n",
       "  <thead>\n",
       "    <tr style=\"text-align: right;\">\n",
       "      <th></th>\n",
       "      <th>tag</th>\n",
       "      <th>title</th>\n",
       "      <th>text</th>\n",
       "      <th>text_chars</th>\n",
       "    </tr>\n",
       "  </thead>\n",
       "  <tbody>\n",
       "    <tr>\n",
       "      <th>1122</th>\n",
       "      <td>History</td>\n",
       "      <td>Economic history of the world</td>\n",
       "      <td>.</td>\n",
       "      <td>1</td>\n",
       "    </tr>\n",
       "    <tr>\n",
       "      <th>5985</th>\n",
       "      <td>Global Politics</td>\n",
       "      <td>Cross-cultural</td>\n",
       "      <td>Cross-cultural may refer to</td>\n",
       "      <td>27</td>\n",
       "    </tr>\n",
       "    <tr>\n",
       "      <th>10482</th>\n",
       "      <td>Mathematics</td>\n",
       "      <td>Formal semantics</td>\n",
       "      <td>Formal semantics may refer to:</td>\n",
       "      <td>30</td>\n",
       "    </tr>\n",
       "    <tr>\n",
       "      <th>5628</th>\n",
       "      <td>Geography</td>\n",
       "      <td>Core–periphery structure</td>\n",
       "      <td>Core periphery structure is a network theory model.</td>\n",
       "      <td>51</td>\n",
       "    </tr>\n",
       "    <tr>\n",
       "      <th>4777</th>\n",
       "      <td>Economics</td>\n",
       "      <td>Core–periphery structure</td>\n",
       "      <td>Core periphery structure is a network theory model.</td>\n",
       "      <td>51</td>\n",
       "    </tr>\n",
       "    <tr>\n",
       "      <th>8666</th>\n",
       "      <td>Physics</td>\n",
       "      <td>Timeline of classical mechanics</td>\n",
       "      <td>The following is a timeline of classical mechanics:</td>\n",
       "      <td>51</td>\n",
       "    </tr>\n",
       "    <tr>\n",
       "      <th>1722</th>\n",
       "      <td>Language and Literature</td>\n",
       "      <td>Playwright</td>\n",
       "      <td>A playwright or dramatist is a person who writes plays.</td>\n",
       "      <td>55</td>\n",
       "    </tr>\n",
       "    <tr>\n",
       "      <th>3920</th>\n",
       "      <td>Theatre</td>\n",
       "      <td>Playwright</td>\n",
       "      <td>A playwright or dramatist is a person who writes plays.</td>\n",
       "      <td>55</td>\n",
       "    </tr>\n",
       "    <tr>\n",
       "      <th>3879</th>\n",
       "      <td>Theatre</td>\n",
       "      <td>Playwright</td>\n",
       "      <td>A playwright or dramatist is a person who writes plays.</td>\n",
       "      <td>55</td>\n",
       "    </tr>\n",
       "    <tr>\n",
       "      <th>3873</th>\n",
       "      <td>Theatre</td>\n",
       "      <td>Playwright</td>\n",
       "      <td>A playwright or dramatist is a person who writes plays.</td>\n",
       "      <td>55</td>\n",
       "    </tr>\n",
       "  </tbody>\n",
       "</table>\n",
       "</div>"
      ],
      "text/plain": [
       "                           tag                            title  \\\n",
       "1122                   History    Economic history of the world   \n",
       "5985           Global Politics                   Cross-cultural   \n",
       "10482              Mathematics                 Formal semantics   \n",
       "5628                 Geography         Core–periphery structure   \n",
       "4777                 Economics         Core–periphery structure   \n",
       "8666                   Physics  Timeline of classical mechanics   \n",
       "1722   Language and Literature                       Playwright   \n",
       "3920                   Theatre                       Playwright   \n",
       "3879                   Theatre                       Playwright   \n",
       "3873                   Theatre                       Playwright   \n",
       "\n",
       "                                                          text  text_chars  \n",
       "1122                                                         .           1  \n",
       "5985                               Cross-cultural may refer to          27  \n",
       "10482                           Formal semantics may refer to:          30  \n",
       "5628       Core periphery structure is a network theory model.          51  \n",
       "4777       Core periphery structure is a network theory model.          51  \n",
       "8666       The following is a timeline of classical mechanics:          51  \n",
       "1722   A playwright or dramatist is a person who writes plays.          55  \n",
       "3920   A playwright or dramatist is a person who writes plays.          55  \n",
       "3879   A playwright or dramatist is a person who writes plays.          55  \n",
       "3873   A playwright or dramatist is a person who writes plays.          55  "
      ]
     },
     "execution_count": 7,
     "metadata": {},
     "output_type": "execute_result"
    }
   ],
   "source": [
    "df[df['text_chars'] < 100].sort_values(by='text_chars').head(10)"
   ]
  },
  {
   "cell_type": "code",
   "execution_count": 8,
   "metadata": {},
   "outputs": [
    {
     "data": {
      "text/html": [
       "<div>\n",
       "<style scoped>\n",
       "    .dataframe tbody tr th:only-of-type {\n",
       "        vertical-align: middle;\n",
       "    }\n",
       "\n",
       "    .dataframe tbody tr th {\n",
       "        vertical-align: top;\n",
       "    }\n",
       "\n",
       "    .dataframe thead th {\n",
       "        text-align: right;\n",
       "    }\n",
       "</style>\n",
       "<table border=\"1\" class=\"dataframe\">\n",
       "  <thead>\n",
       "    <tr style=\"text-align: right;\">\n",
       "      <th></th>\n",
       "      <th>tag</th>\n",
       "      <th>title</th>\n",
       "      <th>text</th>\n",
       "      <th>text_chars</th>\n",
       "    </tr>\n",
       "  </thead>\n",
       "  <tbody>\n",
       "    <tr>\n",
       "      <th>0</th>\n",
       "      <td>Visual Arts</td>\n",
       "      <td>Art</td>\n",
       "      <td>Art is a diverse range of (and products of) human activities involving creative imagination to express technical proficiency, beauty, emotional power, or conceptual ideas.[1][2][3] There is no generally agreed definition of what constitutes art,[4][5][6] and ideas have changed over time. The three classical branches of visual art are painting, sculpture, and architecture.[7] Theatre, dance, and other performing arts, as well as literature, music, film and other media such as interactive media, are included in a broader definition of the arts.[1][8] Until the 17th century, art referred to any skill or mastery and was not differentiated from crafts or sciences. In modern usage after the 17th century, where aesthetic considerations are paramount, the fine arts are separated and distinguished from acquired skills in general, such as the decorative or applied arts. The nature of art and related concepts, such as creativity and interpretation, are explored in a branch of philosophy known as aesthetics.[9] The resulting artworks are studied in the professional fields of art criticism and the history of art.</td>\n",
       "      <td>1119</td>\n",
       "    </tr>\n",
       "  </tbody>\n",
       "</table>\n",
       "</div>"
      ],
      "text/plain": [
       "           tag title  \\\n",
       "0  Visual Arts   Art   \n",
       "\n",
       "                                                                                                                                                                                                                                                                                                                                                                                                                                                                                                                                                                                                                                                                                                                                                                                                                                                                                                                                                                                                                                                                                                                                                              text  \\\n",
       "0    Art is a diverse range of (and products of) human activities involving creative imagination to express technical proficiency, beauty, emotional power, or conceptual ideas.[1][2][3] There is no generally agreed definition of what constitutes art,[4][5][6] and ideas have changed over time. The three classical branches of visual art are painting, sculpture, and architecture.[7] Theatre, dance, and other performing arts, as well as literature, music, film and other media such as interactive media, are included in a broader definition of the arts.[1][8] Until the 17th century, art referred to any skill or mastery and was not differentiated from crafts or sciences. In modern usage after the 17th century, where aesthetic considerations are paramount, the fine arts are separated and distinguished from acquired skills in general, such as the decorative or applied arts. The nature of art and related concepts, such as creativity and interpretation, are explored in a branch of philosophy known as aesthetics.[9] The resulting artworks are studied in the professional fields of art criticism and the history of art.   \n",
       "\n",
       "   text_chars  \n",
       "0        1119  "
      ]
     },
     "metadata": {},
     "output_type": "display_data"
    },
    {
     "name": "stdout",
     "output_type": "stream",
     "text": [
      "len 12870\n"
     ]
    }
   ],
   "source": [
    "df = df[~((df['text_chars'] < 50) & (df['text'].str.contains(r'refer to')))]\n",
    "display(df.head(1))\n",
    "print('len', df.shape[0])"
   ]
  },
  {
   "cell_type": "code",
   "execution_count": 9,
   "metadata": {},
   "outputs": [],
   "source": [
    "df[['tag', 'title', 'text']].to_csv(PATH + 'dataset.v1.0.3-cleaned.csv', index=False)"
   ]
  },
  {
   "cell_type": "code",
   "execution_count": 10,
   "metadata": {},
   "outputs": [
    {
     "data": {
      "text/html": [
       "<div>\n",
       "<style scoped>\n",
       "    .dataframe tbody tr th:only-of-type {\n",
       "        vertical-align: middle;\n",
       "    }\n",
       "\n",
       "    .dataframe tbody tr th {\n",
       "        vertical-align: top;\n",
       "    }\n",
       "\n",
       "    .dataframe thead th {\n",
       "        text-align: right;\n",
       "    }\n",
       "</style>\n",
       "<table border=\"1\" class=\"dataframe\">\n",
       "  <thead>\n",
       "    <tr style=\"text-align: right;\">\n",
       "      <th></th>\n",
       "      <th>tag</th>\n",
       "      <th>title</th>\n",
       "      <th>text</th>\n",
       "      <th>text_chars</th>\n",
       "      <th>text_words</th>\n",
       "    </tr>\n",
       "  </thead>\n",
       "  <tbody>\n",
       "    <tr>\n",
       "      <th>0</th>\n",
       "      <td>Visual Arts</td>\n",
       "      <td>Art</td>\n",
       "      <td>Art is a diverse range of (and products of) human activities involving creative imagination to express technical proficiency, beauty, emotional power, or conceptual ideas.[1][2][3] There is no generally agreed definition of what constitutes art,[4][5][6] and ideas have changed over time. The three classical branches of visual art are painting, sculpture, and architecture.[7] Theatre, dance, and other performing arts, as well as literature, music, film and other media such as interactive media, are included in a broader definition of the arts.[1][8] Until the 17th century, art referred to any skill or mastery and was not differentiated from crafts or sciences. In modern usage after the 17th century, where aesthetic considerations are paramount, the fine arts are separated and distinguished from acquired skills in general, such as the decorative or applied arts. The nature of art and related concepts, such as creativity and interpretation, are explored in a branch of philosophy known as aesthetics.[9] The resulting artworks are studied in the professional fields of art criticism and the history of art.</td>\n",
       "      <td>1119</td>\n",
       "      <td>169</td>\n",
       "    </tr>\n",
       "  </tbody>\n",
       "</table>\n",
       "</div>"
      ],
      "text/plain": [
       "           tag title  \\\n",
       "0  Visual Arts   Art   \n",
       "\n",
       "                                                                                                                                                                                                                                                                                                                                                                                                                                                                                                                                                                                                                                                                                                                                                                                                                                                                                                                                                                                                                                                                                                                                                              text  \\\n",
       "0    Art is a diverse range of (and products of) human activities involving creative imagination to express technical proficiency, beauty, emotional power, or conceptual ideas.[1][2][3] There is no generally agreed definition of what constitutes art,[4][5][6] and ideas have changed over time. The three classical branches of visual art are painting, sculpture, and architecture.[7] Theatre, dance, and other performing arts, as well as literature, music, film and other media such as interactive media, are included in a broader definition of the arts.[1][8] Until the 17th century, art referred to any skill or mastery and was not differentiated from crafts or sciences. In modern usage after the 17th century, where aesthetic considerations are paramount, the fine arts are separated and distinguished from acquired skills in general, such as the decorative or applied arts. The nature of art and related concepts, such as creativity and interpretation, are explored in a branch of philosophy known as aesthetics.[9] The resulting artworks are studied in the professional fields of art criticism and the history of art.   \n",
       "\n",
       "   text_chars  text_words  \n",
       "0        1119         169  "
      ]
     },
     "execution_count": 10,
     "metadata": {},
     "output_type": "execute_result"
    }
   ],
   "source": [
    "df['text_words'] = df['text'].str.split().str.len()\n",
    "df.head(1)"
   ]
  },
  {
   "cell_type": "code",
   "execution_count": 11,
   "metadata": {},
   "outputs": [
    {
     "data": {
      "text/html": [
       "<div>\n",
       "<style scoped>\n",
       "    .dataframe tbody tr th:only-of-type {\n",
       "        vertical-align: middle;\n",
       "    }\n",
       "\n",
       "    .dataframe tbody tr th {\n",
       "        vertical-align: top;\n",
       "    }\n",
       "\n",
       "    .dataframe thead th {\n",
       "        text-align: right;\n",
       "    }\n",
       "</style>\n",
       "<table border=\"1\" class=\"dataframe\">\n",
       "  <thead>\n",
       "    <tr style=\"text-align: right;\">\n",
       "      <th></th>\n",
       "      <th>index</th>\n",
       "      <th>count</th>\n",
       "    </tr>\n",
       "  </thead>\n",
       "  <tbody>\n",
       "    <tr>\n",
       "      <th>0</th>\n",
       "      <td>(-0.165, 146.625]</td>\n",
       "      <td>4754</td>\n",
       "    </tr>\n",
       "    <tr>\n",
       "      <th>1</th>\n",
       "      <td>(146.625, 292.25]</td>\n",
       "      <td>4543</td>\n",
       "    </tr>\n",
       "    <tr>\n",
       "      <th>2</th>\n",
       "      <td>(292.25, 437.875]</td>\n",
       "      <td>2337</td>\n",
       "    </tr>\n",
       "    <tr>\n",
       "      <th>3</th>\n",
       "      <td>(437.875, 583.5]</td>\n",
       "      <td>882</td>\n",
       "    </tr>\n",
       "    <tr>\n",
       "      <th>4</th>\n",
       "      <td>(583.5, 729.125]</td>\n",
       "      <td>263</td>\n",
       "    </tr>\n",
       "    <tr>\n",
       "      <th>5</th>\n",
       "      <td>(729.125, 874.75]</td>\n",
       "      <td>63</td>\n",
       "    </tr>\n",
       "    <tr>\n",
       "      <th>6</th>\n",
       "      <td>(874.75, 1020.375]</td>\n",
       "      <td>17</td>\n",
       "    </tr>\n",
       "    <tr>\n",
       "      <th>7</th>\n",
       "      <td>(1020.375, 1166.0]</td>\n",
       "      <td>11</td>\n",
       "    </tr>\n",
       "  </tbody>\n",
       "</table>\n",
       "</div>"
      ],
      "text/plain": [
       "                index  count\n",
       "0   (-0.165, 146.625]   4754\n",
       "1   (146.625, 292.25]   4543\n",
       "2   (292.25, 437.875]   2337\n",
       "3    (437.875, 583.5]    882\n",
       "4    (583.5, 729.125]    263\n",
       "5   (729.125, 874.75]     63\n",
       "6  (874.75, 1020.375]     17\n",
       "7  (1020.375, 1166.0]     11"
      ]
     },
     "execution_count": 11,
     "metadata": {},
     "output_type": "execute_result"
    }
   ],
   "source": [
    "bins_words = pd.cut(df['text_words'], 8).value_counts()\\\n",
    "    .reset_index(name='count')\n",
    "bins_words"
   ]
  },
  {
   "cell_type": "code",
   "execution_count": 12,
   "metadata": {},
   "outputs": [
    {
     "data": {
      "image/png": "[encoded data removed]",
      "text/plain": [
       "<Figure size 640x480 with 1 Axes>"
      ]
     },
     "metadata": {},
     "output_type": "display_data"
    },
    {
     "data": {
      "text/plain": [
       "<ggplot: (376854754)>"
      ]
     },
     "execution_count": 12,
     "metadata": {},
     "output_type": "execute_result"
    }
   ],
   "source": [
    "ggplot(data=bins_words) +\\\n",
    "    geom_bar(aes(x=\"index\", y=\"count\"), stat=\"identity\") +\\\n",
    "    scale_x_discrete(limits=bins_words[\"index\"]) +\\\n",
    "    labs(title=\"Bins of Words\", x=\"Bins\", y=\"Number of Words\") +\\\n",
    "    theme(axis_text_x=element_text(rotation=45, hjust=1))"
   ]
  },
  {
   "cell_type": "code",
   "execution_count": 13,
   "metadata": {},
   "outputs": [
    {
     "data": {
      "text/html": [
       "<div>\n",
       "<style scoped>\n",
       "    .dataframe tbody tr th:only-of-type {\n",
       "        vertical-align: middle;\n",
       "    }\n",
       "\n",
       "    .dataframe tbody tr th {\n",
       "        vertical-align: top;\n",
       "    }\n",
       "\n",
       "    .dataframe thead th {\n",
       "        text-align: right;\n",
       "    }\n",
       "</style>\n",
       "<table border=\"1\" class=\"dataframe\">\n",
       "  <thead>\n",
       "    <tr style=\"text-align: right;\">\n",
       "      <th></th>\n",
       "      <th>index</th>\n",
       "      <th>count</th>\n",
       "    </tr>\n",
       "  </thead>\n",
       "  <tbody>\n",
       "    <tr>\n",
       "      <th>0</th>\n",
       "      <td>Computer Science</td>\n",
       "      <td>1511</td>\n",
       "    </tr>\n",
       "    <tr>\n",
       "      <th>1</th>\n",
       "      <td>Mathematics</td>\n",
       "      <td>1308</td>\n",
       "    </tr>\n",
       "    <tr>\n",
       "      <th>2</th>\n",
       "      <td>History</td>\n",
       "      <td>1219</td>\n",
       "    </tr>\n",
       "    <tr>\n",
       "      <th>3</th>\n",
       "      <td>Sports, Exercise and Health Science</td>\n",
       "      <td>1109</td>\n",
       "    </tr>\n",
       "    <tr>\n",
       "      <th>4</th>\n",
       "      <td>Biology</td>\n",
       "      <td>1055</td>\n",
       "    </tr>\n",
       "    <tr>\n",
       "      <th>5</th>\n",
       "      <td>Philosophy</td>\n",
       "      <td>794</td>\n",
       "    </tr>\n",
       "    <tr>\n",
       "      <th>6</th>\n",
       "      <td>Language and Literature</td>\n",
       "      <td>761</td>\n",
       "    </tr>\n",
       "    <tr>\n",
       "      <th>7</th>\n",
       "      <td>Economics</td>\n",
       "      <td>685</td>\n",
       "    </tr>\n",
       "    <tr>\n",
       "      <th>8</th>\n",
       "      <td>Chemistry</td>\n",
       "      <td>636</td>\n",
       "    </tr>\n",
       "    <tr>\n",
       "      <th>9</th>\n",
       "      <td>Religion</td>\n",
       "      <td>573</td>\n",
       "    </tr>\n",
       "    <tr>\n",
       "      <th>10</th>\n",
       "      <td>Music</td>\n",
       "      <td>564</td>\n",
       "    </tr>\n",
       "    <tr>\n",
       "      <th>11</th>\n",
       "      <td>Psychology</td>\n",
       "      <td>556</td>\n",
       "    </tr>\n",
       "    <tr>\n",
       "      <th>12</th>\n",
       "      <td>Geography</td>\n",
       "      <td>488</td>\n",
       "    </tr>\n",
       "    <tr>\n",
       "      <th>13</th>\n",
       "      <td>Physics</td>\n",
       "      <td>452</td>\n",
       "    </tr>\n",
       "    <tr>\n",
       "      <th>14</th>\n",
       "      <td>Global Politics</td>\n",
       "      <td>396</td>\n",
       "    </tr>\n",
       "    <tr>\n",
       "      <th>15</th>\n",
       "      <td>Visual Arts</td>\n",
       "      <td>338</td>\n",
       "    </tr>\n",
       "    <tr>\n",
       "      <th>16</th>\n",
       "      <td>Theatre</td>\n",
       "      <td>126</td>\n",
       "    </tr>\n",
       "    <tr>\n",
       "      <th>17</th>\n",
       "      <td>Business Management</td>\n",
       "      <td>97</td>\n",
       "    </tr>\n",
       "    <tr>\n",
       "      <th>18</th>\n",
       "      <td>Film</td>\n",
       "      <td>82</td>\n",
       "    </tr>\n",
       "    <tr>\n",
       "      <th>19</th>\n",
       "      <td>Anthropology</td>\n",
       "      <td>63</td>\n",
       "    </tr>\n",
       "    <tr>\n",
       "      <th>20</th>\n",
       "      <td>Dance</td>\n",
       "      <td>57</td>\n",
       "    </tr>\n",
       "  </tbody>\n",
       "</table>\n",
       "</div>"
      ],
      "text/plain": [
       "                                  index  count\n",
       "0                      Computer Science   1511\n",
       "1                           Mathematics   1308\n",
       "2                               History   1219\n",
       "3   Sports, Exercise and Health Science   1109\n",
       "4                               Biology   1055\n",
       "5                            Philosophy    794\n",
       "6               Language and Literature    761\n",
       "7                             Economics    685\n",
       "8                             Chemistry    636\n",
       "9                              Religion    573\n",
       "10                                Music    564\n",
       "11                           Psychology    556\n",
       "12                            Geography    488\n",
       "13                              Physics    452\n",
       "14                      Global Politics    396\n",
       "15                          Visual Arts    338\n",
       "16                              Theatre    126\n",
       "17                  Business Management     97\n",
       "18                                 Film     82\n",
       "19                         Anthropology     63\n",
       "20                                Dance     57"
      ]
     },
     "execution_count": 13,
     "metadata": {},
     "output_type": "execute_result"
    }
   ],
   "source": [
    "tags_count = df['tag'].value_counts()\\\n",
    "    .reset_index(name='count')\n",
    "tags_count"
   ]
  },
  {
   "cell_type": "code",
   "execution_count": 14,
   "metadata": {},
   "outputs": [
    {
     "data": {
      "image/png": "[encoded data removed]",
      "text/plain": [
       "<Figure size 640x480 with 1 Axes>"
      ]
     },
     "metadata": {},
     "output_type": "display_data"
    },
    {
     "data": {
      "text/plain": [
       "<ggplot: (375401132)>"
      ]
     },
     "execution_count": 14,
     "metadata": {},
     "output_type": "execute_result"
    }
   ],
   "source": [
    "ggplot(data=tags_count) +\\\n",
    "    geom_bar(aes(x=\"index\", y=\"count\"), stat=\"identity\") +\\\n",
    "    scale_x_discrete(limits=tags_count[\"index\"][::-1]) +\\\n",
    "    coord_flip() +\\\n",
    "    labs(title=\"Distribution of Tags\", x=\"Tags\", y=\"Count\") +\\\n",
    "    theme(axis_text_x=element_text(rotation=90, hjust=1))"
   ]
  }
 ],
 "metadata": {
  "kernelspec": {
   "display_name": "uni",
   "language": "python",
   "name": "uni"
  },
  "language_info": {
   "codemirror_mode": {
    "name": "ipython",
    "version": 3
   },
   "file_extension": ".py",
   "mimetype": "text/x-python",
   "name": "python",
   "nbconvert_exporter": "python",
   "pygments_lexer": "ipython3",
   "version": "3.8.9+"
  }
 },
 "nbformat": 4,
 "nbformat_minor": 4
}
